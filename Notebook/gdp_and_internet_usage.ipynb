{
 "cells": [
  {
   "cell_type": "markdown",
   "id": "2ee73d39",
   "metadata": {},
   "source": [
    "# Number3"
   ]
  },
  {
   "cell_type": "code",
   "execution_count": 1,
   "id": "3c9812b0",
   "metadata": {},
   "outputs": [],
   "source": [
    "import pandas as pd"
   ]
  },
  {
   "cell_type": "code",
   "execution_count": 2,
   "id": "441a03f9",
   "metadata": {},
   "outputs": [],
   "source": [
    "import numpy as np"
   ]
  },
  {
   "cell_type": "code",
   "execution_count": 3,
   "id": "a068e366",
   "metadata": {},
   "outputs": [],
   "source": [
    "import matplotlib.pyplot as plt"
   ]
  },
  {
   "cell_type": "code",
   "execution_count": 4,
   "id": "0c150035",
   "metadata": {},
   "outputs": [],
   "source": [
    "import seaborn as sns"
   ]
  },
  {
   "cell_type": "markdown",
   "id": "2811be45",
   "metadata": {},
   "source": [
    "# Number4"
   ]
  },
  {
   "cell_type": "code",
   "execution_count": 5,
   "id": "0a487b23",
   "metadata": {},
   "outputs": [],
   "source": [
    "%matplotlib inline"
   ]
  },
  {
   "cell_type": "markdown",
   "id": "0821c611",
   "metadata": {},
   "source": [
    "# Number5"
   ]
  },
  {
   "cell_type": "code",
   "execution_count": 6,
   "id": "8215b72a",
   "metadata": {},
   "outputs": [
    {
     "name": "stdout",
     "output_type": "stream",
     "text": [
      "  Country or Area  Year        Value  Value Footnotes\n",
      "0     Afghanistan  2019  2065.036398              NaN\n",
      "1     Afghanistan  2018  2033.779002              NaN\n",
      "2     Afghanistan  2017  2058.383832              NaN\n",
      "3     Afghanistan  2016  2057.062164              NaN\n",
      "4     Afghanistan  2015  2068.265904              NaN\n",
      "5     Afghanistan  2014  2102.385234              NaN\n",
      "6     Afghanistan  2013  2116.465454              NaN\n"
     ]
    }
   ],
   "source": [
    "gdp_fp = pd.read_csv(\"../Data/gdp_percapita.csv.csv\",nrows=6868)\n",
    "print(gdp_fp[:7])"
   ]
  },
  {
   "cell_type": "markdown",
   "id": "f5b27743",
   "metadata": {},
   "source": [
    "# Number6"
   ]
  },
  {
   "cell_type": "code",
   "execution_count": 7,
   "id": "c9381f01",
   "metadata": {
    "scrolled": false
   },
   "outputs": [
    {
     "name": "stdout",
     "output_type": "stream",
     "text": [
      "  Country or Area  Year     Value  Value Footnotes\n",
      "0     Afghanistan  2014  6.390000              NaN\n",
      "1     Afghanistan  2013  5.900000              NaN\n",
      "2     Afghanistan  2012  5.454545              NaN\n",
      "3     Afghanistan  2011  5.000000              NaN\n",
      "4     Afghanistan  2010  4.000000              NaN\n",
      "5     Afghanistan  2009  3.550000              NaN\n",
      "6     Afghanistan  2008  1.840000              NaN\n"
     ]
    }
   ],
   "source": [
    "internet_df = pd.read_csv(\"../Data/internet_use.csv.csv\", nrows=4495)\n",
    "print(internet_df[:7])"
   ]
  },
  {
   "cell_type": "markdown",
   "id": "69372283",
   "metadata": {},
   "source": [
    "# Number7"
   ]
  },
  {
   "cell_type": "code",
   "execution_count": 8,
   "id": "d4c6b415",
   "metadata": {},
   "outputs": [
    {
     "name": "stdout",
     "output_type": "stream",
     "text": [
      "(6868, 4)\n"
     ]
    }
   ],
   "source": [
    "shape = gdp_fp.shape\n",
    "print(shape)"
   ]
  },
  {
   "cell_type": "markdown",
   "id": "c6c05042",
   "metadata": {},
   "source": [
    "### Answer: gdp_fp = 6868 rows and 4 columns"
   ]
  },
  {
   "cell_type": "code",
   "execution_count": 9,
   "id": "9399be80",
   "metadata": {},
   "outputs": [
    {
     "name": "stdout",
     "output_type": "stream",
     "text": [
      "(4495, 4)\n"
     ]
    }
   ],
   "source": [
    "shape = internet_df.shape\n",
    "print(shape)"
   ]
  },
  {
   "cell_type": "markdown",
   "id": "3474b334",
   "metadata": {},
   "source": [
    "### Answer: internet_df = 4495 rows and 4 columns"
   ]
  },
  {
   "cell_type": "markdown",
   "id": "4abab01c",
   "metadata": {},
   "source": [
    "# Number8"
   ]
  },
  {
   "cell_type": "code",
   "execution_count": 10,
   "id": "8d6cbf25",
   "metadata": {},
   "outputs": [
    {
     "name": "stdout",
     "output_type": "stream",
     "text": [
      "Country or Area     object\n",
      "Year                 int64\n",
      "Value              float64\n",
      "Value Footnotes    float64\n",
      "dtype: object\n"
     ]
    }
   ],
   "source": [
    "print(gdp_fp.dtypes)"
   ]
  },
  {
   "cell_type": "markdown",
   "id": "b0defcfd",
   "metadata": {},
   "source": [
    "### Answer: gdp_fp = \n",
    "Country or Area     object\n",
    "Year                 int64\n",
    "Value              float64\n",
    "Value Footnotes    float64\n",
    "dtype: object"
   ]
  },
  {
   "cell_type": "code",
   "execution_count": 11,
   "id": "36ef08a7",
   "metadata": {},
   "outputs": [
    {
     "name": "stdout",
     "output_type": "stream",
     "text": [
      "Country or Area     object\n",
      "Year                 int64\n",
      "Value              float64\n",
      "Value Footnotes    float64\n",
      "dtype: object\n"
     ]
    }
   ],
   "source": [
    "print(internet_df.dtypes)"
   ]
  },
  {
   "cell_type": "markdown",
   "id": "f064652d",
   "metadata": {},
   "source": [
    "### Answer: internet_df =\n",
    "Country or Area     object\n",
    "Year                 int64\n",
    "Value              float64\n",
    "Value Footnotes    float64\n",
    "dtype: object"
   ]
  },
  {
   "cell_type": "markdown",
   "id": "f16f8185",
   "metadata": {},
   "source": [
    "# Number9"
   ]
  },
  {
   "cell_type": "code",
   "execution_count": 12,
   "id": "afc5bd20",
   "metadata": {},
   "outputs": [
    {
     "name": "stdout",
     "output_type": "stream",
     "text": [
      "     Country or Area  Year        Value  Value Footnotes\n",
      "6858        Zimbabwe  1999  3600.849291              NaN\n",
      "6859        Zimbabwe  1998  3653.920016              NaN\n",
      "6860        Zimbabwe  1997  3580.048793              NaN\n",
      "6861        Zimbabwe  1996  3520.430146              NaN\n",
      "6862        Zimbabwe  1995  3226.413930              NaN\n",
      "6863        Zimbabwe  1994  3263.934978              NaN\n",
      "6864        Zimbabwe  1993  3033.504852              NaN\n",
      "6865        Zimbabwe  1992  3054.889178              NaN\n",
      "6866        Zimbabwe  1991  3426.598094              NaN\n",
      "6867        Zimbabwe  1990  3324.348171              NaN\n"
     ]
    }
   ],
   "source": [
    "print(gdp_fp[-10:])"
   ]
  },
  {
   "cell_type": "code",
   "execution_count": 13,
   "id": "76a34394",
   "metadata": {},
   "outputs": [
    {
     "name": "stdout",
     "output_type": "stream",
     "text": [
      "     Country or Area  Year     Value  Value Footnotes\n",
      "4485        Zimbabwe  2002  3.994356              NaN\n",
      "4486        Zimbabwe  2001  0.799846              NaN\n",
      "4487        Zimbabwe  2000  0.401434              NaN\n",
      "4488        Zimbabwe  1999  0.161676              NaN\n",
      "4489        Zimbabwe  1998  0.081648              NaN\n",
      "4490        Zimbabwe  1997  0.033080              NaN\n",
      "4491        Zimbabwe  1996  0.016790              NaN\n",
      "4492        Zimbabwe  1995  0.007684              NaN\n",
      "4493        Zimbabwe  1994  0.001739              NaN\n",
      "4494        Zimbabwe  1990  0.000000              NaN\n"
     ]
    }
   ],
   "source": [
    "print(internet_df[-10:])"
   ]
  },
  {
   "cell_type": "markdown",
   "id": "0d685eba",
   "metadata": {},
   "source": [
    "# Number10"
   ]
  },
  {
   "cell_type": "code",
   "execution_count": 14,
   "id": "b8d7b1c4",
   "metadata": {},
   "outputs": [],
   "source": [
    "gdp_fp=gdp_fp.drop(labels='Value Footnotes', axis=1)"
   ]
  },
  {
   "cell_type": "code",
   "execution_count": 15,
   "id": "b089ae3e",
   "metadata": {},
   "outputs": [],
   "source": [
    "internet_df=internet_df.drop(labels='Value Footnotes', axis=1)"
   ]
  },
  {
   "cell_type": "markdown",
   "id": "7ff760dc",
   "metadata": {},
   "source": [
    "# Number11"
   ]
  },
  {
   "cell_type": "code",
   "execution_count": 16,
   "id": "d73d8cf6",
   "metadata": {},
   "outputs": [],
   "source": [
    "gdp_fp.rename(columns={'Country or Area':'Country', 'Year':'Year', 'Value':'GDP_Per_Capita'},inplace=True)"
   ]
  },
  {
   "cell_type": "code",
   "execution_count": 17,
   "id": "d036c177",
   "metadata": {},
   "outputs": [
    {
     "name": "stdout",
     "output_type": "stream",
     "text": [
      "       Country  Year  GDP_Per_Capita\n",
      "0  Afghanistan  2019     2065.036398\n",
      "1  Afghanistan  2018     2033.779002\n",
      "2  Afghanistan  2017     2058.383832\n",
      "3  Afghanistan  2016     2057.062164\n",
      "4  Afghanistan  2015     2068.265904\n"
     ]
    }
   ],
   "source": [
    "print(gdp_fp[:5])"
   ]
  },
  {
   "cell_type": "markdown",
   "id": "3d572def",
   "metadata": {},
   "source": [
    "# Number12"
   ]
  },
  {
   "cell_type": "code",
   "execution_count": 18,
   "id": "eb332119",
   "metadata": {
    "scrolled": true
   },
   "outputs": [
    {
     "name": "stdout",
     "output_type": "stream",
     "text": [
      "          Country  Year  Internet_Users_Pct\n",
      "0     Afghanistan  2014            6.390000\n",
      "1     Afghanistan  2013            5.900000\n",
      "2     Afghanistan  2012            5.454545\n",
      "3     Afghanistan  2011            5.000000\n",
      "4     Afghanistan  2010            4.000000\n",
      "...           ...   ...                 ...\n",
      "4490     Zimbabwe  1997            0.033080\n",
      "4491     Zimbabwe  1996            0.016790\n",
      "4492     Zimbabwe  1995            0.007684\n",
      "4493     Zimbabwe  1994            0.001739\n",
      "4494     Zimbabwe  1990            0.000000\n",
      "\n",
      "[4495 rows x 3 columns]\n"
     ]
    }
   ],
   "source": [
    "internet_df.rename(columns={'Country or Area':'Country', 'Year':'Year', 'Value':'Internet_Users_Pct'}, inplace=True)\n",
    "print(internet_df)"
   ]
  },
  {
   "cell_type": "markdown",
   "id": "7f02ee2c",
   "metadata": {},
   "source": [
    "# Number13"
   ]
  },
  {
   "cell_type": "code",
   "execution_count": 19,
   "id": "7a9ca3c8",
   "metadata": {},
   "outputs": [],
   "source": [
    "gdp_and_internet_use=gdp_fp.merge(internet_df,'outer')"
   ]
  },
  {
   "cell_type": "markdown",
   "id": "70798fbd",
   "metadata": {},
   "source": [
    "# Number14"
   ]
  },
  {
   "cell_type": "code",
   "execution_count": 20,
   "id": "e3f73511",
   "metadata": {},
   "outputs": [
    {
     "name": "stdout",
     "output_type": "stream",
     "text": [
      "       Country  Year  GDP_Per_Capita  Internet_Users_Pct\n",
      "0  Afghanistan  2019     2065.036398                 NaN\n",
      "1  Afghanistan  2018     2033.779002                 NaN\n",
      "2  Afghanistan  2017     2058.383832                 NaN\n",
      "3  Afghanistan  2016     2057.062164                 NaN\n",
      "4  Afghanistan  2015     2068.265904                 NaN\n"
     ]
    }
   ],
   "source": [
    "print(gdp_and_internet_use[:5])"
   ]
  },
  {
   "cell_type": "markdown",
   "id": "0cebbad4",
   "metadata": {},
   "source": [
    "# Number15"
   ]
  },
  {
   "cell_type": "code",
   "execution_count": 21,
   "id": "431f9f33",
   "metadata": {},
   "outputs": [
    {
     "name": "stdout",
     "output_type": "stream",
     "text": [
      "     Country  Year  GDP_Per_Capita  Internet_Users_Pct\n",
      "7900   Yemen  1999             NaN            0.056629\n",
      "7901   Yemen  1998             NaN            0.023323\n",
      "7902   Yemen  1997             NaN            0.015025\n",
      "7903   Yemen  1996             NaN            0.000621\n",
      "7904   Yemen  1990             NaN            0.000000\n"
     ]
    }
   ],
   "source": [
    "print(gdp_and_internet_use[-5:])"
   ]
  },
  {
   "cell_type": "markdown",
   "id": "f06ee7c9",
   "metadata": {},
   "source": [
    "# Number16"
   ]
  },
  {
   "cell_type": "code",
   "execution_count": 22,
   "id": "118b1163",
   "metadata": {},
   "outputs": [
    {
     "name": "stdout",
     "output_type": "stream",
     "text": [
      "        Country  Year  GDP_Per_Capita  Internet_Users_Pct\n",
      "5   Afghanistan  2014     2102.385234            6.390000\n",
      "10  Afghanistan  2009     1758.904043            3.550000\n",
      "15  Afghanistan  2004     1200.278256            0.105809\n",
      "23      Albania  2014    11623.866679           60.100000\n",
      "28      Albania  2009    10346.864199           41.200000\n",
      "33      Albania  2004     7604.838002            2.420388\n",
      "53      Algeria  2014    11512.705405           18.090000\n",
      "58      Algeria  2009    10782.361398           11.230000\n",
      "63      Algeria  2004    10058.435939            4.634475\n",
      "83       Angola  2014     8239.828837           21.260000\n"
     ]
    }
   ],
   "source": [
    "gdp_and_internet_use = gdp_and_internet_use[gdp_and_internet_use['Year'].isin([2004,2009,2014])]\n",
    "print(gdp_and_internet_use[:10])"
   ]
  },
  {
   "cell_type": "markdown",
   "id": "6c111957",
   "metadata": {},
   "source": [
    "# Number17"
   ]
  },
  {
   "cell_type": "code",
   "execution_count": 23,
   "id": "e5d2a173",
   "metadata": {},
   "outputs": [],
   "source": [
    "gdp_and_internet_use_2004=gdp_and_internet_use[gdp_and_internet_use['Year']==2004]\n",
    "gdp_and_internet_use_2009=gdp_and_internet_use[gdp_and_internet_use['Year']==2009]\n",
    "gdp_and_internet_use_2014=gdp_and_internet_use[gdp_and_internet_use['Year']==2014]"
   ]
  },
  {
   "cell_type": "markdown",
   "id": "635e94bf",
   "metadata": {},
   "source": [
    "# Number18"
   ]
  },
  {
   "cell_type": "code",
   "execution_count": 24,
   "id": "c7dfbe23",
   "metadata": {},
   "outputs": [
    {
     "data": {
      "text/plain": [
       "Country                  Iceland\n",
       "Year                        2014\n",
       "GDP_Per_Capita        49652.1495\n",
       "Internet_Users_Pct         98.16\n",
       "Name: 2625, dtype: object"
      ]
     },
     "execution_count": 24,
     "metadata": {},
     "output_type": "execute_result"
    }
   ],
   "source": [
    "gdp_and_internet_use_2014.loc[gdp_and_internet_use_2014['Internet_Users_Pct'].idxmax()]"
   ]
  },
  {
   "cell_type": "markdown",
   "id": "bae1882d",
   "metadata": {},
   "source": [
    "# Number19"
   ]
  },
  {
   "cell_type": "code",
   "execution_count": 25,
   "id": "fdfa988c",
   "metadata": {},
   "outputs": [
    {
     "data": {
      "text/plain": [
       "Country               Dem. People's Rep. of Korea\n",
       "Year                                         2014\n",
       "GDP_Per_Capita                                NaN\n",
       "Internet_Users_Pct                            0.0\n",
       "Name: 7079, dtype: object"
      ]
     },
     "execution_count": 25,
     "metadata": {},
     "output_type": "execute_result"
    }
   ],
   "source": [
    "gdp_and_internet_use_2014.loc[gdp_and_internet_use_2014['Internet_Users_Pct'].idxmin()]"
   ]
  },
  {
   "cell_type": "markdown",
   "id": "6b8a7dcf",
   "metadata": {},
   "source": [
    "# Number20"
   ]
  },
  {
   "cell_type": "code",
   "execution_count": 26,
   "id": "007a58c5",
   "metadata": {},
   "outputs": [
    {
     "data": {
      "text/plain": [
       "Country                     Sweden\n",
       "Year                          2004\n",
       "GDP_Per_Capita        44496.023401\n",
       "Internet_Users_Pct           83.89\n",
       "Name: 6019, dtype: object"
      ]
     },
     "execution_count": 26,
     "metadata": {},
     "output_type": "execute_result"
    }
   ],
   "source": [
    "gdp_and_internet_use_2004.loc[gdp_and_internet_use_2004['Internet_Users_Pct'].idxmax()]"
   ]
  },
  {
   "cell_type": "code",
   "execution_count": 27,
   "id": "2dd564e0",
   "metadata": {},
   "outputs": [
    {
     "data": {
      "text/plain": [
       "Country               Dem. People's Rep. of Korea\n",
       "Year                                         2004\n",
       "GDP_Per_Capita                                NaN\n",
       "Internet_Users_Pct                            0.0\n",
       "Name: 7088, dtype: object"
      ]
     },
     "execution_count": 27,
     "metadata": {},
     "output_type": "execute_result"
    }
   ],
   "source": [
    "gdp_and_internet_use_2004.loc[gdp_and_internet_use_2004['Internet_Users_Pct'].idxmin()]"
   ]
  },
  {
   "cell_type": "code",
   "execution_count": 28,
   "id": "3b63a496",
   "metadata": {
    "scrolled": true
   },
   "outputs": [
    {
     "data": {
      "text/plain": [
       "Country                    Iceland\n",
       "Year                          2009\n",
       "GDP_Per_Capita        48177.084123\n",
       "Internet_Users_Pct            93.0\n",
       "Name: 2630, dtype: object"
      ]
     },
     "execution_count": 28,
     "metadata": {},
     "output_type": "execute_result"
    }
   ],
   "source": [
    "gdp_and_internet_use_2009.loc[gdp_and_internet_use_2009['Internet_Users_Pct'].idxmax()]"
   ]
  },
  {
   "cell_type": "code",
   "execution_count": 29,
   "id": "f8fdf0ad",
   "metadata": {},
   "outputs": [
    {
     "data": {
      "text/plain": [
       "Country               Dem. People's Rep. of Korea\n",
       "Year                                         2009\n",
       "GDP_Per_Capita                                NaN\n",
       "Internet_Users_Pct                            0.0\n",
       "Name: 7083, dtype: object"
      ]
     },
     "execution_count": 29,
     "metadata": {},
     "output_type": "execute_result"
    }
   ],
   "source": [
    "gdp_and_internet_use_2009.loc[gdp_and_internet_use_2009['Internet_Users_Pct'].idxmin()]"
   ]
  },
  {
   "cell_type": "markdown",
   "id": "238fcebd",
   "metadata": {},
   "source": [
    "# Number21"
   ]
  },
  {
   "cell_type": "code",
   "execution_count": 30,
   "id": "5b138fb6",
   "metadata": {},
   "outputs": [
    {
     "data": {
      "text/plain": [
       "Country                  Luxembourg\n",
       "Year                           2004\n",
       "GDP_Per_Capita        102708.212547\n",
       "Internet_Users_Pct            65.88\n",
       "Name: 3701, dtype: object"
      ]
     },
     "execution_count": 30,
     "metadata": {},
     "output_type": "execute_result"
    }
   ],
   "source": [
    "gdp_and_internet_use_2004.loc[gdp_and_internet_use_2004['GDP_Per_Capita'].idxmax()]"
   ]
  },
  {
   "cell_type": "markdown",
   "id": "8094b7f0",
   "metadata": {},
   "source": [
    "# Number22"
   ]
  },
  {
   "cell_type": "code",
   "execution_count": 31,
   "id": "5a861f25",
   "metadata": {},
   "outputs": [
    {
     "data": {
      "text/plain": [
       "Country               Dem. Rep. Congo\n",
       "Year                             2004\n",
       "GDP_Per_Capita             757.685942\n",
       "Internet_Users_Pct                NaN\n",
       "Name: 1432, dtype: object"
      ]
     },
     "execution_count": 31,
     "metadata": {},
     "output_type": "execute_result"
    }
   ],
   "source": [
    "gdp_and_internet_use_2004.loc[gdp_and_internet_use_2004['GDP_Per_Capita'].idxmin()]"
   ]
  },
  {
   "cell_type": "markdown",
   "id": "9460b782",
   "metadata": {},
   "source": [
    "# Number23"
   ]
  },
  {
   "cell_type": "code",
   "execution_count": 32,
   "id": "ecfb5daa",
   "metadata": {},
   "outputs": [
    {
     "data": {
      "text/plain": [
       "<AxesSubplot:xlabel='Internet_Users_Pct', ylabel='GDP_Per_Capita'>"
      ]
     },
     "execution_count": 32,
     "metadata": {},
     "output_type": "execute_result"
    },
    {
     "data": {
      "image/png": "[encoded data removed]",
      "text/plain": [
       "<Figure size 432x288 with 1 Axes>"
      ]
     },
     "metadata": {
      "needs_background": "light"
     },
     "output_type": "display_data"
    }
   ],
   "source": [
    "gdp_and_internet_use_2004.plot(kind='scatter',x='Internet_Users_Pct', y='GDP_Per_Capita')"
   ]
  },
  {
   "cell_type": "code",
   "execution_count": 33,
   "id": "ba489173",
   "metadata": {},
   "outputs": [
    {
     "data": {
      "text/plain": [
       "<AxesSubplot:xlabel='Internet_Users_Pct', ylabel='GDP_Per_Capita'>"
      ]
     },
     "execution_count": 33,
     "metadata": {},
     "output_type": "execute_result"
    },
    {
     "data": {
      "image/png": "[encoded data removed]",
      "text/plain": [
       "<Figure size 432x288 with 1 Axes>"
      ]
     },
     "metadata": {
      "needs_background": "light"
     },
     "output_type": "display_data"
    }
   ],
   "source": [
    "gdp_and_internet_use_2009.plot(kind='scatter',x='Internet_Users_Pct', y='GDP_Per_Capita')"
   ]
  },
  {
   "cell_type": "code",
   "execution_count": 34,
   "id": "a7117abc",
   "metadata": {},
   "outputs": [
    {
     "data": {
      "text/plain": [
       "<AxesSubplot:xlabel='Internet_Users_Pct', ylabel='GDP_Per_Capita'>"
      ]
     },
     "execution_count": 34,
     "metadata": {},
     "output_type": "execute_result"
    },
    {
     "data": {
      "image/png": "[encoded data removed]",
      "text/plain": [
       "<Figure size 432x288 with 1 Axes>"
      ]
     },
     "metadata": {
      "needs_background": "light"
     },
     "output_type": "display_data"
    }
   ],
   "source": [
    "gdp_and_internet_use_2014.plot(kind='scatter',x='Internet_Users_Pct', y='GDP_Per_Capita')"
   ]
  },
  {
   "cell_type": "markdown",
   "id": "8d0fdfee",
   "metadata": {},
   "source": [
    "# Number24"
   ]
  },
  {
   "cell_type": "markdown",
   "id": "7d54a758",
   "metadata": {},
   "source": [
    "### In 2004 their seem to be quite a few outstanding outliers making it harder to see a pattern, but in 2009 and 2014 it shows that a higher percentage of internet users did not always mean a higher gpd_per_capita. Which could be because as technology advances the internet becomes more widely available."
   ]
  },
  {
   "cell_type": "markdown",
   "id": "d9314033",
   "metadata": {},
   "source": [
    "# Number25"
   ]
  },
  {
   "cell_type": "code",
   "execution_count": 35,
   "id": "44d08f39",
   "metadata": {
    "scrolled": false
   },
   "outputs": [
    {
     "data": {
      "text/plain": [
       "array([[<AxesSubplot:title={'center':'GDP_Per_Capita'}>]], dtype=object)"
      ]
     },
     "execution_count": 35,
     "metadata": {},
     "output_type": "execute_result"
    },
    {
     "data": {
      "image/png": "[encoded data removed]",
      "text/plain": [
       "<Figure size 432x288 with 1 Axes>"
      ]
     },
     "metadata": {
      "needs_background": "light"
     },
     "output_type": "display_data"
    }
   ],
   "source": [
    "gdp_and_internet_use_2014.hist('GDP_Per_Capita')"
   ]
  },
  {
   "cell_type": "markdown",
   "id": "e7cc55a0",
   "metadata": {},
   "source": [
    "### Definitely not unimodal..... Right-skewed"
   ]
  },
  {
   "cell_type": "markdown",
   "id": "3ed5c80d",
   "metadata": {},
   "source": [
    "# Number26"
   ]
  },
  {
   "cell_type": "code",
   "execution_count": 36,
   "id": "5729a058",
   "metadata": {},
   "outputs": [
    {
     "data": {
      "text/plain": [
       "array([[<AxesSubplot:title={'center':'Internet_Users_Pct'}>]],\n",
       "      dtype=object)"
      ]
     },
     "execution_count": 36,
     "metadata": {},
     "output_type": "execute_result"
    },
    {
     "data": {
      "image/png": "[encoded data removed]",
      "text/plain": [
       "<Figure size 432x288 with 1 Axes>"
      ]
     },
     "metadata": {
      "needs_background": "light"
     },
     "output_type": "display_data"
    }
   ],
   "source": [
    "gdp_and_internet_use_2014.hist('Internet_Users_Pct')"
   ]
  },
  {
   "cell_type": "markdown",
   "id": "dc43f506",
   "metadata": {},
   "source": [
    "### Seems like it's bimodal..... "
   ]
  },
  {
   "cell_type": "markdown",
   "id": "530a1997",
   "metadata": {},
   "source": [
    "# Number27"
   ]
  },
  {
   "cell_type": "code",
   "execution_count": 37,
   "id": "e760dcf4",
   "metadata": {},
   "outputs": [
    {
     "name": "stdout",
     "output_type": "stream",
     "text": [
      "      Country  Year  GDP_Per_Capita  Internet_Users_Pct\n",
      "2625  Iceland  2014    49652.149500               98.16\n",
      "561   Bermuda  2014    77361.104881               96.80\n",
      "4648   Norway  2014    62589.373548               96.30\n",
      "1452  Denmark  2014    52214.537753               95.99\n",
      "6871  Andorra  2014             NaN               95.90\n"
     ]
    }
   ],
   "source": [
    "gdp_and_internet_top_5_2014=gdp_and_internet_use_2014.nlargest(5, ['Internet_Users_Pct'])\n",
    "print(gdp_and_internet_top_5_2014)"
   ]
  },
  {
   "cell_type": "markdown",
   "id": "e3c297ab",
   "metadata": {},
   "source": [
    "# Number28"
   ]
  },
  {
   "cell_type": "code",
   "execution_count": 38,
   "id": "6df67893",
   "metadata": {},
   "outputs": [],
   "source": [
    "top_5_internet = gdp_and_internet_use[gdp_and_internet_use.Country.isin(gdp_and_internet_top_5_2014.Country)]\n",
    "top_5_internet = top_5_internet.sort_values('Country', axis = 0, ascending = True, inplace = False)"
   ]
  },
  {
   "cell_type": "code",
   "execution_count": 39,
   "id": "ab027f1b",
   "metadata": {},
   "outputs": [
    {
     "name": "stdout",
     "output_type": "stream",
     "text": [
      "      Country  Year  GDP_Per_Capita  Internet_Users_Pct\n",
      "6871  Andorra  2014             NaN           95.900000\n",
      "6876  Andorra  2009             NaN           78.530000\n",
      "6881  Andorra  2004             NaN           26.837954\n",
      "561   Bermuda  2014    77361.104881           96.800000\n",
      "566   Bermuda  2009    89961.982744           83.250000\n",
      "571   Bermuda  2004    90195.811033           60.990867\n",
      "1452  Denmark  2014    52214.537753           95.990000\n",
      "1457  Denmark  2009    50274.075696           86.840000\n",
      "1462  Denmark  2004    50607.628971           80.930000\n",
      "2625  Iceland  2014    49652.149500           98.160000\n",
      "2630  Iceland  2009    48177.084123           93.000000\n",
      "2635  Iceland  2004    45145.545658           83.880000\n",
      "4648   Norway  2014    62589.373548           96.300000\n",
      "4653   Norway  2009    61886.564498           92.080000\n",
      "4658   Norway  2004    60893.410993           77.690000\n"
     ]
    }
   ],
   "source": [
    "print(top_5_internet)"
   ]
  },
  {
   "cell_type": "markdown",
   "id": "0289fead",
   "metadata": {},
   "source": [
    "# Number29"
   ]
  },
  {
   "cell_type": "code",
   "execution_count": 96,
   "id": "edfc85ea",
   "metadata": {},
   "outputs": [
    {
     "data": {
      "text/plain": [
       "<seaborn.axisgrid.FacetGrid at 0x25916ebd700>"
      ]
     },
     "execution_count": 96,
     "metadata": {},
     "output_type": "execute_result"
    },
    {
     "data": {
      "image/png": "[encoded data removed]",
      "text/plain": [
       "<Figure size 1296x432 with 3 Axes>"
      ]
     },
     "metadata": {
      "needs_background": "light"
     },
     "output_type": "display_data"
    }
   ],
   "source": [
    "graph=sns.FacetGrid(top_5_internet, hue='Country',col_wrap=3,height=6,col='Year')\n",
    "graph.map(plt.bar, 'Country', 'Internet_Users_Pct')"
   ]
  },
  {
   "cell_type": "markdown",
   "id": "5b738734",
   "metadata": {},
   "source": [
    "### Answer: Andorra definately had the greatest growth between 2004-2014!"
   ]
  },
  {
   "cell_type": "markdown",
   "id": "b6378c10",
   "metadata": {},
   "source": [
    "# Number30"
   ]
  },
  {
   "cell_type": "code",
   "execution_count": 41,
   "id": "e996241d",
   "metadata": {},
   "outputs": [
    {
     "name": "stdout",
     "output_type": "stream",
     "text": [
      "                          Country  Year  GDP_Per_Capita  Internet_Users_Pct\n",
      "7079  Dem. People's Rep. of Korea  2014             NaN                0.00\n",
      "7137                      Eritrea  2014             NaN                0.99\n",
      "6219                  Timor-Leste  2014     3264.568070                1.14\n",
      "827                       Burundi  2014      886.235777                1.38\n",
      "7674                      Somalia  2014             NaN                1.63\n"
     ]
    }
   ],
   "source": [
    "gdp_and_internet_bottom_5_2014=gdp_and_internet_use_2014.nsmallest(5, ['Internet_Users_Pct'])\n",
    "print(gdp_and_internet_bottom_5_2014)"
   ]
  },
  {
   "cell_type": "code",
   "execution_count": 42,
   "id": "8df0a3fb",
   "metadata": {},
   "outputs": [],
   "source": [
    "bottom_5_internet = gdp_and_internet_use[gdp_and_internet_use.Country.isin(gdp_and_internet_bottom_5_2014.Country)]\n",
    "bottom_5_internet = bottom_5_internet.sort_values('Country', axis = 0, ascending = True, inplace = False)"
   ]
  },
  {
   "cell_type": "code",
   "execution_count": 43,
   "id": "99cca12b",
   "metadata": {},
   "outputs": [
    {
     "name": "stdout",
     "output_type": "stream",
     "text": [
      "                          Country  Year  GDP_Per_Capita  Internet_Users_Pct\n",
      "827                       Burundi  2014      886.235777            1.380000\n",
      "832                       Burundi  2009      831.564131            0.900000\n",
      "837                       Burundi  2004      817.460585            0.349060\n",
      "7079  Dem. People's Rep. of Korea  2014             NaN            0.000000\n",
      "7083  Dem. People's Rep. of Korea  2009             NaN            0.000000\n",
      "7088  Dem. People's Rep. of Korea  2004             NaN            0.000000\n",
      "7137                      Eritrea  2014             NaN            0.990000\n",
      "7142                      Eritrea  2009             NaN            0.540000\n",
      "7674                      Somalia  2014             NaN            1.630000\n",
      "7678                      Somalia  2009             NaN            1.160611\n",
      "7683                      Somalia  2004             NaN            1.053455\n",
      "6219                  Timor-Leste  2014     3264.568070            1.140000\n",
      "6224                  Timor-Leste  2009     2724.770973            0.185252\n",
      "6229                  Timor-Leste  2004     2258.608056                 NaN\n"
     ]
    }
   ],
   "source": [
    "print(bottom_5_internet)"
   ]
  },
  {
   "cell_type": "code",
   "execution_count": 153,
   "id": "b90ec0cd",
   "metadata": {},
   "outputs": [
    {
     "data": {
      "text/plain": [
       "<seaborn.axisgrid.FacetGrid at 0x25927b47d30>"
      ]
     },
     "execution_count": 153,
     "metadata": {},
     "output_type": "execute_result"
    },
    {
     "data": {
      "image/png": "[encoded data removed]",
      "text/plain": [
       "<Figure size 1728x576 with 3 Axes>"
      ]
     },
     "metadata": {
      "needs_background": "light"
     },
     "output_type": "display_data"
    }
   ],
   "source": [
    "graph=sns.FacetGrid(bottom_5_internet, hue='Country',col_wrap=3,height=8,col='Year')\n",
    "graph.map(plt.bar, 'Country', 'Internet_Users_Pct')"
   ]
  },
  {
   "cell_type": "markdown",
   "id": "f023bff5",
   "metadata": {},
   "source": [
    "### Answer: Dem. People's Rep. of Korea has consistently had the least internet use....surprise, surprise..."
   ]
  },
  {
   "cell_type": "markdown",
   "id": "7ac32da9",
   "metadata": {},
   "source": [
    "# Number31"
   ]
  },
  {
   "cell_type": "code",
   "execution_count": 60,
   "id": "ad1411c4",
   "metadata": {},
   "outputs": [],
   "source": [
    "gdp_top_5_2014=gdp_and_internet_use_2014.nlargest(5, ['GDP_Per_Capita'])"
   ]
  },
  {
   "cell_type": "code",
   "execution_count": 121,
   "id": "6c389ece",
   "metadata": {},
   "outputs": [
    {
     "data": {
      "text/html": [
       "<div>\n",
       "<style scoped>\n",
       "    .dataframe tbody tr th:only-of-type {\n",
       "        vertical-align: middle;\n",
       "    }\n",
       "\n",
       "    .dataframe tbody tr th {\n",
       "        vertical-align: top;\n",
       "    }\n",
       "\n",
       "    .dataframe thead th {\n",
       "        text-align: right;\n",
       "    }\n",
       "</style>\n",
       "<table border=\"1\" class=\"dataframe\">\n",
       "  <thead>\n",
       "    <tr style=\"text-align: right;\">\n",
       "      <th></th>\n",
       "      <th>Country</th>\n",
       "      <th>Year</th>\n",
       "      <th>GDP_Per_Capita</th>\n",
       "      <th>Internet_Users_Pct</th>\n",
       "    </tr>\n",
       "  </thead>\n",
       "  <tbody>\n",
       "    <tr>\n",
       "      <th>3721</th>\n",
       "      <td>Macao SAR, China</td>\n",
       "      <td>2014</td>\n",
       "      <td>156514.133850</td>\n",
       "      <td>NaN</td>\n",
       "    </tr>\n",
       "    <tr>\n",
       "      <th>3691</th>\n",
       "      <td>Luxembourg</td>\n",
       "      <td>2014</td>\n",
       "      <td>108760.916030</td>\n",
       "      <td>94.67</td>\n",
       "    </tr>\n",
       "    <tr>\n",
       "      <th>5138</th>\n",
       "      <td>Qatar</td>\n",
       "      <td>2014</td>\n",
       "      <td>95578.416973</td>\n",
       "      <td>91.49</td>\n",
       "    </tr>\n",
       "    <tr>\n",
       "      <th>5464</th>\n",
       "      <td>Singapore</td>\n",
       "      <td>2014</td>\n",
       "      <td>87808.663157</td>\n",
       "      <td>82.00</td>\n",
       "    </tr>\n",
       "    <tr>\n",
       "      <th>561</th>\n",
       "      <td>Bermuda</td>\n",
       "      <td>2014</td>\n",
       "      <td>77361.104881</td>\n",
       "      <td>96.80</td>\n",
       "    </tr>\n",
       "  </tbody>\n",
       "</table>\n",
       "</div>"
      ],
      "text/plain": [
       "               Country  Year  GDP_Per_Capita  Internet_Users_Pct\n",
       "3721  Macao SAR, China  2014   156514.133850                 NaN\n",
       "3691        Luxembourg  2014   108760.916030               94.67\n",
       "5138             Qatar  2014    95578.416973               91.49\n",
       "5464         Singapore  2014    87808.663157               82.00\n",
       "561            Bermuda  2014    77361.104881               96.80"
      ]
     },
     "execution_count": 121,
     "metadata": {},
     "output_type": "execute_result"
    }
   ],
   "source": [
    "gdp_top_5_2014"
   ]
  },
  {
   "cell_type": "code",
   "execution_count": 123,
   "id": "65394324",
   "metadata": {},
   "outputs": [],
   "source": [
    "top_5_gdp_per_capita=gdp_and_internet_use[(gdp_and_internet_use.Country.isin(gdp_top_5_2014.Country)) & (gdp_and_internet_use.Year.isin([2004,2009,2014]))]"
   ]
  },
  {
   "cell_type": "code",
   "execution_count": 124,
   "id": "da0a72df",
   "metadata": {},
   "outputs": [
    {
     "data": {
      "text/html": [
       "<div>\n",
       "<style scoped>\n",
       "    .dataframe tbody tr th:only-of-type {\n",
       "        vertical-align: middle;\n",
       "    }\n",
       "\n",
       "    .dataframe tbody tr th {\n",
       "        vertical-align: top;\n",
       "    }\n",
       "\n",
       "    .dataframe thead th {\n",
       "        text-align: right;\n",
       "    }\n",
       "</style>\n",
       "<table border=\"1\" class=\"dataframe\">\n",
       "  <thead>\n",
       "    <tr style=\"text-align: right;\">\n",
       "      <th></th>\n",
       "      <th>Country</th>\n",
       "      <th>Year</th>\n",
       "      <th>GDP_Per_Capita</th>\n",
       "      <th>Internet_Users_Pct</th>\n",
       "    </tr>\n",
       "  </thead>\n",
       "  <tbody>\n",
       "    <tr>\n",
       "      <th>561</th>\n",
       "      <td>Bermuda</td>\n",
       "      <td>2014</td>\n",
       "      <td>77361.104881</td>\n",
       "      <td>96.800000</td>\n",
       "    </tr>\n",
       "    <tr>\n",
       "      <th>566</th>\n",
       "      <td>Bermuda</td>\n",
       "      <td>2009</td>\n",
       "      <td>89961.982744</td>\n",
       "      <td>83.250000</td>\n",
       "    </tr>\n",
       "    <tr>\n",
       "      <th>571</th>\n",
       "      <td>Bermuda</td>\n",
       "      <td>2004</td>\n",
       "      <td>90195.811033</td>\n",
       "      <td>60.990867</td>\n",
       "    </tr>\n",
       "    <tr>\n",
       "      <th>3691</th>\n",
       "      <td>Luxembourg</td>\n",
       "      <td>2014</td>\n",
       "      <td>108760.916030</td>\n",
       "      <td>94.670000</td>\n",
       "    </tr>\n",
       "    <tr>\n",
       "      <th>3696</th>\n",
       "      <td>Luxembourg</td>\n",
       "      <td>2009</td>\n",
       "      <td>104932.811953</td>\n",
       "      <td>87.310000</td>\n",
       "    </tr>\n",
       "    <tr>\n",
       "      <th>3701</th>\n",
       "      <td>Luxembourg</td>\n",
       "      <td>2004</td>\n",
       "      <td>102708.212547</td>\n",
       "      <td>65.880000</td>\n",
       "    </tr>\n",
       "    <tr>\n",
       "      <th>3721</th>\n",
       "      <td>Macao SAR, China</td>\n",
       "      <td>2014</td>\n",
       "      <td>156514.133850</td>\n",
       "      <td>NaN</td>\n",
       "    </tr>\n",
       "    <tr>\n",
       "      <th>3726</th>\n",
       "      <td>Macao SAR, China</td>\n",
       "      <td>2009</td>\n",
       "      <td>95939.340822</td>\n",
       "      <td>NaN</td>\n",
       "    </tr>\n",
       "    <tr>\n",
       "      <th>3731</th>\n",
       "      <td>Macao SAR, China</td>\n",
       "      <td>2004</td>\n",
       "      <td>72944.409424</td>\n",
       "      <td>NaN</td>\n",
       "    </tr>\n",
       "    <tr>\n",
       "      <th>5138</th>\n",
       "      <td>Qatar</td>\n",
       "      <td>2014</td>\n",
       "      <td>95578.416973</td>\n",
       "      <td>91.490000</td>\n",
       "    </tr>\n",
       "    <tr>\n",
       "      <th>5143</th>\n",
       "      <td>Qatar</td>\n",
       "      <td>2009</td>\n",
       "      <td>89954.519993</td>\n",
       "      <td>53.100000</td>\n",
       "    </tr>\n",
       "    <tr>\n",
       "      <th>5148</th>\n",
       "      <td>Qatar</td>\n",
       "      <td>2004</td>\n",
       "      <td>93748.301216</td>\n",
       "      <td>20.701648</td>\n",
       "    </tr>\n",
       "    <tr>\n",
       "      <th>5464</th>\n",
       "      <td>Singapore</td>\n",
       "      <td>2014</td>\n",
       "      <td>87808.663157</td>\n",
       "      <td>82.000000</td>\n",
       "    </tr>\n",
       "    <tr>\n",
       "      <th>5469</th>\n",
       "      <td>Singapore</td>\n",
       "      <td>2009</td>\n",
       "      <td>69466.581746</td>\n",
       "      <td>69.000000</td>\n",
       "    </tr>\n",
       "    <tr>\n",
       "      <th>5474</th>\n",
       "      <td>Singapore</td>\n",
       "      <td>2004</td>\n",
       "      <td>63901.716368</td>\n",
       "      <td>62.000000</td>\n",
       "    </tr>\n",
       "  </tbody>\n",
       "</table>\n",
       "</div>"
      ],
      "text/plain": [
       "               Country  Year  GDP_Per_Capita  Internet_Users_Pct\n",
       "561            Bermuda  2014    77361.104881           96.800000\n",
       "566            Bermuda  2009    89961.982744           83.250000\n",
       "571            Bermuda  2004    90195.811033           60.990867\n",
       "3691        Luxembourg  2014   108760.916030           94.670000\n",
       "3696        Luxembourg  2009   104932.811953           87.310000\n",
       "3701        Luxembourg  2004   102708.212547           65.880000\n",
       "3721  Macao SAR, China  2014   156514.133850                 NaN\n",
       "3726  Macao SAR, China  2009    95939.340822                 NaN\n",
       "3731  Macao SAR, China  2004    72944.409424                 NaN\n",
       "5138             Qatar  2014    95578.416973           91.490000\n",
       "5143             Qatar  2009    89954.519993           53.100000\n",
       "5148             Qatar  2004    93748.301216           20.701648\n",
       "5464         Singapore  2014    87808.663157           82.000000\n",
       "5469         Singapore  2009    69466.581746           69.000000\n",
       "5474         Singapore  2004    63901.716368           62.000000"
      ]
     },
     "execution_count": 124,
     "metadata": {},
     "output_type": "execute_result"
    }
   ],
   "source": [
    "top_5_gdp_per_capita"
   ]
  },
  {
   "cell_type": "code",
   "execution_count": 158,
   "id": "0f9d2fc4",
   "metadata": {},
   "outputs": [
    {
     "data": {
      "text/plain": [
       "<seaborn.axisgrid.FacetGrid at 0x2592a78ac10>"
      ]
     },
     "execution_count": 158,
     "metadata": {},
     "output_type": "execute_result"
    },
    {
     "data": {
      "image/png": "[encoded data removed]",
      "text/plain": [
       "<Figure size 1296x432 with 3 Axes>"
      ]
     },
     "metadata": {
      "needs_background": "light"
     },
     "output_type": "display_data"
    }
   ],
   "source": [
    "#top_5_gdp_per_capita['Year'].plot(figsize=(20,10), linewidth=5, fontsize=20)\n",
    "#plt.xlabel('Year', fontsize=20)\n",
    "#plt.ylabel('GDP_Per_Capita', fontsize=20)\n",
    "\n",
    "graph=sns.FacetGrid(top_5_gdp_per_capita, hue='Country',col_wrap=3, height=6, col='Year' )\n",
    "graph.map(plt.bar,'Country', 'GDP_Per_Capita')"
   ]
  },
  {
   "cell_type": "markdown",
   "id": "0feb5501",
   "metadata": {},
   "source": [
    "# Number32"
   ]
  },
  {
   "cell_type": "code",
   "execution_count": null,
   "id": "1f703135",
   "metadata": {},
   "outputs": [],
   "source": []
  }
 ],
 "metadata": {
  "kernelspec": {
   "display_name": "Python 3 (ipykernel)",
   "language": "python",
   "name": "python3"
  },
  "language_info": {
   "codemirror_mode": {
    "name": "ipython",
    "version": 3
   },
   "file_extension": ".py",
   "mimetype": "text/x-python",
   "name": "python",
   "nbconvert_exporter": "python",
   "pygments_lexer": "ipython3",
   "version": "3.9.12"
  }
 },
 "nbformat": 4,
 "nbformat_minor": 5
}
